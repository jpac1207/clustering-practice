{
 "cells": [
  {
   "cell_type": "code",
   "execution_count": 4,
   "id": "56588adb",
   "metadata": {},
   "outputs": [],
   "source": [
    "import pandas as pd"
   ]
  },
  {
   "cell_type": "markdown",
   "id": "515d5da3",
   "metadata": {},
   "source": [
    "## Lendo o dataset"
   ]
  },
  {
   "cell_type": "code",
   "execution_count": 41,
   "id": "1ff5938b",
   "metadata": {},
   "outputs": [],
   "source": [
    "raw_dataset = pd.read_csv('dataset.csv')"
   ]
  },
  {
   "cell_type": "code",
   "execution_count": 42,
   "id": "7edf32d7",
   "metadata": {
    "scrolled": false
   },
   "outputs": [
    {
     "data": {
      "text/html": [
       "<div>\n",
       "<style scoped>\n",
       "    .dataframe tbody tr th:only-of-type {\n",
       "        vertical-align: middle;\n",
       "    }\n",
       "\n",
       "    .dataframe tbody tr th {\n",
       "        vertical-align: top;\n",
       "    }\n",
       "\n",
       "    .dataframe thead th {\n",
       "        text-align: right;\n",
       "    }\n",
       "</style>\n",
       "<table border=\"1\" class=\"dataframe\">\n",
       "  <thead>\n",
       "    <tr style=\"text-align: right;\">\n",
       "      <th></th>\n",
       "      <th>nome</th>\n",
       "      <th>capacidade_ram</th>\n",
       "      <th>capacidade_armazenamento</th>\n",
       "      <th>preco</th>\n",
       "    </tr>\n",
       "  </thead>\n",
       "  <tbody>\n",
       "    <tr>\n",
       "      <th>0</th>\n",
       "      <td>Samsung Galaxy S21 Ultra</td>\n",
       "      <td>12 GB</td>\n",
       "      <td>256 GB</td>\n",
       "      <td>6899.0</td>\n",
       "    </tr>\n",
       "    <tr>\n",
       "      <th>1</th>\n",
       "      <td>Samsung Galaxy S21+</td>\n",
       "      <td>8 GB</td>\n",
       "      <td>256 GB</td>\n",
       "      <td>4799.0</td>\n",
       "    </tr>\n",
       "    <tr>\n",
       "      <th>2</th>\n",
       "      <td>Samsung Galaxy S20 FE</td>\n",
       "      <td>6 GB</td>\n",
       "      <td>128 GB</td>\n",
       "      <td>2199.0</td>\n",
       "    </tr>\n",
       "    <tr>\n",
       "      <th>3</th>\n",
       "      <td>Samsung Galaxy A52</td>\n",
       "      <td>8 GB</td>\n",
       "      <td>128 GB</td>\n",
       "      <td>1699.0</td>\n",
       "    </tr>\n",
       "    <tr>\n",
       "      <th>4</th>\n",
       "      <td>Samsung Galaxy A32</td>\n",
       "      <td>4 GB</td>\n",
       "      <td>128 GB</td>\n",
       "      <td>1199.0</td>\n",
       "    </tr>\n",
       "  </tbody>\n",
       "</table>\n",
       "</div>"
      ],
      "text/plain": [
       "                       nome capacidade_ram capacidade_armazenamento   preco\n",
       "0  Samsung Galaxy S21 Ultra          12 GB                   256 GB  6899.0\n",
       "1       Samsung Galaxy S21+           8 GB                   256 GB  4799.0\n",
       "2     Samsung Galaxy S20 FE           6 GB                   128 GB  2199.0\n",
       "3        Samsung Galaxy A52           8 GB                   128 GB  1699.0\n",
       "4        Samsung Galaxy A32           4 GB                   128 GB  1199.0"
      ]
     },
     "execution_count": 42,
     "metadata": {},
     "output_type": "execute_result"
    }
   ],
   "source": [
    "raw_dataset.head()"
   ]
  },
  {
   "cell_type": "markdown",
   "id": "bf36a1d4",
   "metadata": {},
   "source": [
    "## Análise dos Dados"
   ]
  },
  {
   "cell_type": "code",
   "execution_count": 43,
   "id": "7e442458",
   "metadata": {
    "scrolled": true
   },
   "outputs": [
    {
     "data": {
      "text/plain": [
       "nome                        147\n",
       "capacidade_ram              147\n",
       "capacidade_armazenamento    147\n",
       "preco                       147\n",
       "dtype: int64"
      ]
     },
     "execution_count": 43,
     "metadata": {},
     "output_type": "execute_result"
    }
   ],
   "source": [
    "raw_dataset.count()"
   ]
  },
  {
   "cell_type": "code",
   "execution_count": 44,
   "id": "32c86339",
   "metadata": {
    "scrolled": true
   },
   "outputs": [
    {
     "data": {
      "text/plain": [
       "array(['Samsung Galaxy S21 Ultra', 'Samsung Galaxy S21+',\n",
       "       'Samsung Galaxy S20 FE', 'Samsung Galaxy A52',\n",
       "       'Samsung Galaxy A32', 'Apple iPhone 12 Pro Max', 'Apple iPhone 12',\n",
       "       'Apple iPhone SE (2020)', 'Xiaomi Redmi Note 10 Pro',\n",
       "       'Xiaomi Redmi 9', 'Motorola Moto G30', 'Motorola Moto G9 Power',\n",
       "       'OnePlus 9 Pro', 'OnePlus 9', 'Huawei P30 Lite', 'Huawei P40 Pro',\n",
       "       'Google Pixel 5', 'Google Pixel 4a', 'Sony Xperia 5 II',\n",
       "       'Sony Xperia 10 II', 'Nokia 5.4', 'Nokia 8.3 5G', 'LG K42',\n",
       "       'LG K22+', 'Asus Zenfone 7', 'Asus Zenfone 6', 'Motorola Moto E6s',\n",
       "       'Motorola Moto G10', 'Samsung Galaxy A12', 'Samsung Galaxy A72',\n",
       "       'Samsung Galaxy M51', 'Xiaomi Redmi Note 9S', 'Xiaomi Poco X3 NFC',\n",
       "       'Xiaomi Redmi Note 10S', 'Xiaomi Mi 11', 'OnePlus Nord',\n",
       "       'OnePlus 8T', 'Realme 7', 'Realme 7 Pro', 'Realme C15',\n",
       "       'Realme C11', 'Realme 7 5G', 'Motorola Moto G8 Plus',\n",
       "       'Samsung Galaxy A70', 'Motorola Moto G9 Play',\n",
       "       'Samsung Galaxy A11', 'Samsung Galaxy A51',\n",
       "       'Motorola Moto G7 Play', 'Motorola Moto G9 Plus',\n",
       "       'Samsung Galaxy A31', 'Xiaomi Redmi 9A', 'Samsung Galaxy A50',\n",
       "       'Xiaomi Mi 10T Lite', 'Motorola Moto G8 Power Lite',\n",
       "       'Xiaomi Redmi 9C', 'Xiaomi Poco M3', 'Samsung Galaxy M31',\n",
       "       'Xiaomi Redmi Note 9 Pro', 'Samsung Galaxy S10 Lite',\n",
       "       'Xiaomi Redmi 9T', 'Xiaomi Redmi Note 8 Pro', 'Motorola Moto G9',\n",
       "       'Xiaomi Mi 10T Pro', 'Samsung Galaxy A71', 'Xiaomi Redmi Note 10',\n",
       "       'Motorola One Fusion+', 'Xiaomi Redmi 8', 'Samsung Galaxy A21s',\n",
       "       'Xiaomi Redmi Note 7', 'Motorola Moto G6 Plus',\n",
       "       'Samsung Galaxy M21', 'Xiaomi Mi Note 10 Lite',\n",
       "       'Motorola Moto E7 Plus', 'Samsung Galaxy A30s', 'Xiaomi Mi 9 Lite',\n",
       "       'Motorola Moto G7 Power', 'Xiaomi Mi 9 SE', 'Samsung Galaxy A20s',\n",
       "       'Motorola Moto G7', 'Xiaomi Redmi Note 6 Pro', 'Samsung Galaxy J8',\n",
       "       'Xiaomi Mi A3', 'Motorola Moto G6', 'Samsung Galaxy A10',\n",
       "       'Xiaomi Mi 9T', 'Motorola Moto G5S Plus', 'Samsung Galaxy J6+',\n",
       "       'Xiaomi Poco X3', 'Asus Zenfone Max Shot', 'LG K50S',\n",
       "       'Motorola Moto E6 Plus', 'Samsung Galaxy A02s', 'Nokia 2.4',\n",
       "       'Xiaomi Redmi Note 9', 'Asus Zenfone Max Pro (M1)',\n",
       "       'Samsung Galaxy A01 Core', 'LG K61', 'Motorola Moto G8 Play',\n",
       "       'Nokia 5.3', 'Asus Zenfone 5Z', 'LG K41S', 'Nokia 7.2',\n",
       "       'Samsung Galaxy A50s', 'Asus Zenfone Max Pro (M2)',\n",
       "       'Samsung Galaxy A10s', 'Xiaomi Redmi Note 8', 'LG K40S',\n",
       "       'Motorola Moto E6 Play', 'Nokia 3.4', 'Samsung Galaxy A20',\n",
       "       'LG K50', 'Motorola Moto G5S', 'Nokia 6.2', 'Samsung Galaxy A70s',\n",
       "       'Asus Zenfone 4', 'Motorola Moto E5 Plus'], dtype=object)"
      ]
     },
     "execution_count": 44,
     "metadata": {},
     "output_type": "execute_result"
    }
   ],
   "source": [
    "raw_dataset['nome'].unique()"
   ]
  },
  {
   "cell_type": "markdown",
   "id": "cf78b0d4",
   "metadata": {},
   "source": [
    "## Verificação de repetições no nome do aparelho"
   ]
  },
  {
   "cell_type": "code",
   "execution_count": 45,
   "id": "3f1f3b39",
   "metadata": {},
   "outputs": [
    {
     "data": {
      "text/plain": [
       "116"
      ]
     },
     "execution_count": 45,
     "metadata": {},
     "output_type": "execute_result"
    }
   ],
   "source": [
    "len(raw_dataset['nome'].unique())"
   ]
  },
  {
   "cell_type": "markdown",
   "id": "fc67c00e",
   "metadata": {},
   "source": [
    "## Observações sobre repetições"
   ]
  },
  {
   "cell_type": "code",
   "execution_count": 46,
   "id": "ca731255",
   "metadata": {},
   "outputs": [
    {
     "data": {
      "text/plain": [
       "131"
      ]
     },
     "execution_count": 46,
     "metadata": {},
     "output_type": "execute_result"
    }
   ],
   "source": [
    "len(raw_dataset[['nome', 'capacidade_ram', 'capacidade_armazenamento']].value_counts())"
   ]
  },
  {
   "cell_type": "code",
   "execution_count": 47,
   "id": "7cdcf7e1",
   "metadata": {},
   "outputs": [
    {
     "name": "stdout",
     "output_type": "stream",
     "text": [
      "Quantidade de configurações de memória RAM diferentes: 11\n",
      "Quantidade de configurações de armazenamento persistente diferentes: 8\n"
     ]
    }
   ],
   "source": [
    "print('Quantidade de configurações de memória RAM diferentes: {0}'.\n",
    "      format(len(raw_dataset['capacidade_ram'].unique())))\n",
    "\n",
    "print('Quantidade de configurações de armazenamento persistente diferentes: {0}'.\n",
    "      format(len(raw_dataset['capacidade_armazenamento'].unique())))"
   ]
  },
  {
   "cell_type": "code",
   "execution_count": 48,
   "id": "f87c159f",
   "metadata": {},
   "outputs": [
    {
     "data": {
      "text/plain": [
       "array(['12 GB', '8 GB', '6 GB', '4 GB', '3 GB', '2 GB', '8', '4', '6',\n",
       "       '2', '3'], dtype=object)"
      ]
     },
     "execution_count": 48,
     "metadata": {},
     "output_type": "execute_result"
    }
   ],
   "source": [
    "raw_dataset['capacidade_ram'].unique()"
   ]
  },
  {
   "cell_type": "code",
   "execution_count": 49,
   "id": "07bb78e0",
   "metadata": {
    "scrolled": true
   },
   "outputs": [
    {
     "data": {
      "text/plain": [
       "array(['256 GB', '128 GB', '64 GB', '32 GB', '128', '64', '32', '256'],\n",
       "      dtype=object)"
      ]
     },
     "execution_count": 49,
     "metadata": {},
     "output_type": "execute_result"
    }
   ],
   "source": [
    "raw_dataset['capacidade_armazenamento'].unique()"
   ]
  },
  {
   "cell_type": "markdown",
   "id": "fab8ec1c",
   "metadata": {},
   "source": [
    "## Tratamento dos Dados"
   ]
  },
  {
   "cell_type": "code",
   "execution_count": 54,
   "id": "ee8b1de1",
   "metadata": {},
   "outputs": [],
   "source": [
    "raw_dataset['chave_unica'] = raw_dataset['nome'] + \"_\" + raw_dataset['capacidade_ram'] + \"_\" + raw_dataset['capacidade_armazenamento']"
   ]
  },
  {
   "cell_type": "code",
   "execution_count": 55,
   "id": "1a111a17",
   "metadata": {
    "scrolled": true
   },
   "outputs": [
    {
     "data": {
      "text/html": [
       "<div>\n",
       "<style scoped>\n",
       "    .dataframe tbody tr th:only-of-type {\n",
       "        vertical-align: middle;\n",
       "    }\n",
       "\n",
       "    .dataframe tbody tr th {\n",
       "        vertical-align: top;\n",
       "    }\n",
       "\n",
       "    .dataframe thead th {\n",
       "        text-align: right;\n",
       "    }\n",
       "</style>\n",
       "<table border=\"1\" class=\"dataframe\">\n",
       "  <thead>\n",
       "    <tr style=\"text-align: right;\">\n",
       "      <th></th>\n",
       "      <th>nome</th>\n",
       "      <th>capacidade_ram</th>\n",
       "      <th>capacidade_armazenamento</th>\n",
       "      <th>preco</th>\n",
       "      <th>chave_unica</th>\n",
       "    </tr>\n",
       "  </thead>\n",
       "  <tbody>\n",
       "    <tr>\n",
       "      <th>0</th>\n",
       "      <td>Samsung Galaxy S21 Ultra</td>\n",
       "      <td>12 GB</td>\n",
       "      <td>256 GB</td>\n",
       "      <td>6899.0</td>\n",
       "      <td>Samsung Galaxy S21 Ultra_12 GB_256 GB</td>\n",
       "    </tr>\n",
       "    <tr>\n",
       "      <th>1</th>\n",
       "      <td>Samsung Galaxy S21+</td>\n",
       "      <td>8 GB</td>\n",
       "      <td>256 GB</td>\n",
       "      <td>4799.0</td>\n",
       "      <td>Samsung Galaxy S21+_8 GB_256 GB</td>\n",
       "    </tr>\n",
       "    <tr>\n",
       "      <th>2</th>\n",
       "      <td>Samsung Galaxy S20 FE</td>\n",
       "      <td>6 GB</td>\n",
       "      <td>128 GB</td>\n",
       "      <td>2199.0</td>\n",
       "      <td>Samsung Galaxy S20 FE_6 GB_128 GB</td>\n",
       "    </tr>\n",
       "    <tr>\n",
       "      <th>3</th>\n",
       "      <td>Samsung Galaxy A52</td>\n",
       "      <td>8 GB</td>\n",
       "      <td>128 GB</td>\n",
       "      <td>1699.0</td>\n",
       "      <td>Samsung Galaxy A52_8 GB_128 GB</td>\n",
       "    </tr>\n",
       "    <tr>\n",
       "      <th>4</th>\n",
       "      <td>Samsung Galaxy A32</td>\n",
       "      <td>4 GB</td>\n",
       "      <td>128 GB</td>\n",
       "      <td>1199.0</td>\n",
       "      <td>Samsung Galaxy A32_4 GB_128 GB</td>\n",
       "    </tr>\n",
       "    <tr>\n",
       "      <th>...</th>\n",
       "      <td>...</td>\n",
       "      <td>...</td>\n",
       "      <td>...</td>\n",
       "      <td>...</td>\n",
       "      <td>...</td>\n",
       "    </tr>\n",
       "    <tr>\n",
       "      <th>142</th>\n",
       "      <td>Samsung Galaxy A70s</td>\n",
       "      <td>6</td>\n",
       "      <td>128</td>\n",
       "      <td>2299.0</td>\n",
       "      <td>Samsung Galaxy A70s_6_128</td>\n",
       "    </tr>\n",
       "    <tr>\n",
       "      <th>143</th>\n",
       "      <td>Xiaomi Redmi Note 9S</td>\n",
       "      <td>4</td>\n",
       "      <td>128</td>\n",
       "      <td>1599.0</td>\n",
       "      <td>Xiaomi Redmi Note 9S_4_128</td>\n",
       "    </tr>\n",
       "    <tr>\n",
       "      <th>144</th>\n",
       "      <td>Asus Zenfone 4</td>\n",
       "      <td>4</td>\n",
       "      <td>64</td>\n",
       "      <td>1499.0</td>\n",
       "      <td>Asus Zenfone 4_4_64</td>\n",
       "    </tr>\n",
       "    <tr>\n",
       "      <th>145</th>\n",
       "      <td>Motorola Moto E5 Plus</td>\n",
       "      <td>3</td>\n",
       "      <td>32</td>\n",
       "      <td>799.0</td>\n",
       "      <td>Motorola Moto E5 Plus_3_32</td>\n",
       "    </tr>\n",
       "    <tr>\n",
       "      <th>146</th>\n",
       "      <td>Samsung Galaxy A70</td>\n",
       "      <td>6</td>\n",
       "      <td>128</td>\n",
       "      <td>2199.0</td>\n",
       "      <td>Samsung Galaxy A70_6_128</td>\n",
       "    </tr>\n",
       "  </tbody>\n",
       "</table>\n",
       "<p>147 rows × 5 columns</p>\n",
       "</div>"
      ],
      "text/plain": [
       "                         nome capacidade_ram capacidade_armazenamento   preco   \n",
       "0    Samsung Galaxy S21 Ultra          12 GB                   256 GB  6899.0  \\\n",
       "1         Samsung Galaxy S21+           8 GB                   256 GB  4799.0   \n",
       "2       Samsung Galaxy S20 FE           6 GB                   128 GB  2199.0   \n",
       "3          Samsung Galaxy A52           8 GB                   128 GB  1699.0   \n",
       "4          Samsung Galaxy A32           4 GB                   128 GB  1199.0   \n",
       "..                        ...            ...                      ...     ...   \n",
       "142       Samsung Galaxy A70s              6                      128  2299.0   \n",
       "143      Xiaomi Redmi Note 9S              4                      128  1599.0   \n",
       "144            Asus Zenfone 4              4                       64  1499.0   \n",
       "145     Motorola Moto E5 Plus              3                       32   799.0   \n",
       "146        Samsung Galaxy A70              6                      128  2199.0   \n",
       "\n",
       "                               chave_unica  \n",
       "0    Samsung Galaxy S21 Ultra_12 GB_256 GB  \n",
       "1          Samsung Galaxy S21+_8 GB_256 GB  \n",
       "2        Samsung Galaxy S20 FE_6 GB_128 GB  \n",
       "3           Samsung Galaxy A52_8 GB_128 GB  \n",
       "4           Samsung Galaxy A32_4 GB_128 GB  \n",
       "..                                     ...  \n",
       "142              Samsung Galaxy A70s_6_128  \n",
       "143             Xiaomi Redmi Note 9S_4_128  \n",
       "144                    Asus Zenfone 4_4_64  \n",
       "145             Motorola Moto E5 Plus_3_32  \n",
       "146               Samsung Galaxy A70_6_128  \n",
       "\n",
       "[147 rows x 5 columns]"
      ]
     },
     "execution_count": 55,
     "metadata": {},
     "output_type": "execute_result"
    }
   ],
   "source": [
    "raw_dataset"
   ]
  },
  {
   "cell_type": "code",
   "execution_count": 56,
   "id": "887cbac5",
   "metadata": {
    "scrolled": false
   },
   "outputs": [
    {
     "data": {
      "text/plain": [
       "131"
      ]
     },
     "execution_count": 56,
     "metadata": {},
     "output_type": "execute_result"
    }
   ],
   "source": [
    "len(raw_dataset['chave_unica'].unique())"
   ]
  },
  {
   "cell_type": "code",
   "execution_count": 75,
   "id": "e40aeadd",
   "metadata": {},
   "outputs": [],
   "source": [
    "cleared_dataset = raw_dataset.drop_duplicates('chave_unica').copy()"
   ]
  },
  {
   "cell_type": "code",
   "execution_count": 76,
   "id": "51acb022",
   "metadata": {
    "scrolled": true
   },
   "outputs": [
    {
     "data": {
      "text/plain": [
       "nome                        131\n",
       "capacidade_ram              131\n",
       "capacidade_armazenamento    131\n",
       "preco                       131\n",
       "chave_unica                 131\n",
       "dtype: int64"
      ]
     },
     "execution_count": 76,
     "metadata": {},
     "output_type": "execute_result"
    }
   ],
   "source": [
    "cleared_dataset.count()"
   ]
  },
  {
   "cell_type": "code",
   "execution_count": 82,
   "id": "509d2bb2",
   "metadata": {},
   "outputs": [],
   "source": [
    "cleared_dataset['capacidade_ram'] = cleared_dataset['capacidade_ram'].apply(lambda x: str(x).replace('GB', '').strip()).astype('int32')\n",
    "cleared_dataset['capacidade_armazenamento'] = cleared_dataset['capacidade_armazenamento'].apply(lambda x: str(x).replace('GB', '').strip()).astype('int32')"
   ]
  },
  {
   "cell_type": "code",
   "execution_count": 83,
   "id": "81cc4400",
   "metadata": {},
   "outputs": [
    {
     "data": {
      "text/plain": [
       "array([12,  8,  6,  4,  3,  2], dtype=int32)"
      ]
     },
     "execution_count": 83,
     "metadata": {},
     "output_type": "execute_result"
    }
   ],
   "source": [
    "cleared_dataset['capacidade_ram'].unique()"
   ]
  },
  {
   "cell_type": "code",
   "execution_count": 84,
   "id": "03162061",
   "metadata": {},
   "outputs": [
    {
     "data": {
      "text/plain": [
       "array([256, 128,  64,  32], dtype=int32)"
      ]
     },
     "execution_count": 84,
     "metadata": {},
     "output_type": "execute_result"
    }
   ],
   "source": [
    "cleared_dataset['capacidade_armazenamento'].unique()"
   ]
  },
  {
   "cell_type": "code",
   "execution_count": 85,
   "id": "f3e6965c",
   "metadata": {
    "scrolled": true
   },
   "outputs": [
    {
     "data": {
      "text/html": [
       "<div>\n",
       "<style scoped>\n",
       "    .dataframe tbody tr th:only-of-type {\n",
       "        vertical-align: middle;\n",
       "    }\n",
       "\n",
       "    .dataframe tbody tr th {\n",
       "        vertical-align: top;\n",
       "    }\n",
       "\n",
       "    .dataframe thead th {\n",
       "        text-align: right;\n",
       "    }\n",
       "</style>\n",
       "<table border=\"1\" class=\"dataframe\">\n",
       "  <thead>\n",
       "    <tr style=\"text-align: right;\">\n",
       "      <th></th>\n",
       "      <th>capacidade_ram</th>\n",
       "      <th>capacidade_armazenamento</th>\n",
       "      <th>preco</th>\n",
       "    </tr>\n",
       "  </thead>\n",
       "  <tbody>\n",
       "    <tr>\n",
       "      <th>count</th>\n",
       "      <td>131.000000</td>\n",
       "      <td>131.000000</td>\n",
       "      <td>131.000000</td>\n",
       "    </tr>\n",
       "    <tr>\n",
       "      <th>mean</th>\n",
       "      <td>4.732824</td>\n",
       "      <td>98.687023</td>\n",
       "      <td>1826.938931</td>\n",
       "    </tr>\n",
       "    <tr>\n",
       "      <th>std</th>\n",
       "      <td>2.067419</td>\n",
       "      <td>54.427239</td>\n",
       "      <td>1521.519341</td>\n",
       "    </tr>\n",
       "    <tr>\n",
       "      <th>min</th>\n",
       "      <td>2.000000</td>\n",
       "      <td>32.000000</td>\n",
       "      <td>549.000000</td>\n",
       "    </tr>\n",
       "    <tr>\n",
       "      <th>25%</th>\n",
       "      <td>4.000000</td>\n",
       "      <td>64.000000</td>\n",
       "      <td>999.000000</td>\n",
       "    </tr>\n",
       "    <tr>\n",
       "      <th>50%</th>\n",
       "      <td>4.000000</td>\n",
       "      <td>128.000000</td>\n",
       "      <td>1399.000000</td>\n",
       "    </tr>\n",
       "    <tr>\n",
       "      <th>75%</th>\n",
       "      <td>6.000000</td>\n",
       "      <td>128.000000</td>\n",
       "      <td>1799.000000</td>\n",
       "    </tr>\n",
       "    <tr>\n",
       "      <th>max</th>\n",
       "      <td>12.000000</td>\n",
       "      <td>256.000000</td>\n",
       "      <td>9999.000000</td>\n",
       "    </tr>\n",
       "  </tbody>\n",
       "</table>\n",
       "</div>"
      ],
      "text/plain": [
       "       capacidade_ram  capacidade_armazenamento        preco\n",
       "count      131.000000                131.000000   131.000000\n",
       "mean         4.732824                 98.687023  1826.938931\n",
       "std          2.067419                 54.427239  1521.519341\n",
       "min          2.000000                 32.000000   549.000000\n",
       "25%          4.000000                 64.000000   999.000000\n",
       "50%          4.000000                128.000000  1399.000000\n",
       "75%          6.000000                128.000000  1799.000000\n",
       "max         12.000000                256.000000  9999.000000"
      ]
     },
     "execution_count": 85,
     "metadata": {},
     "output_type": "execute_result"
    }
   ],
   "source": [
    "cleared_dataset.describe()"
   ]
  },
  {
   "cell_type": "markdown",
   "id": "42a928f4",
   "metadata": {},
   "source": [
    "## Clusterização"
   ]
  },
  {
   "cell_type": "code",
   "execution_count": 87,
   "id": "1e801c56",
   "metadata": {},
   "outputs": [],
   "source": [
    "from sklearn.cluster import KMeans\n",
    "import numpy as np"
   ]
  },
  {
   "cell_type": "code",
   "execution_count": 97,
   "id": "a4267527",
   "metadata": {},
   "outputs": [],
   "source": [
    "X = cleared_dataset['preco'].to_numpy().reshape(-1, 1)"
   ]
  },
  {
   "cell_type": "code",
   "execution_count": 109,
   "id": "c15cb70e",
   "metadata": {},
   "outputs": [],
   "source": [
    "number_of_clusters = 3"
   ]
  },
  {
   "cell_type": "code",
   "execution_count": 110,
   "id": "be70e28c",
   "metadata": {},
   "outputs": [],
   "source": [
    "kmeans = KMeans(n_clusters=number_of_clusters, random_state=0, n_init=\"auto\").fit(X)"
   ]
  },
  {
   "cell_type": "code",
   "execution_count": 111,
   "id": "b31ac78a",
   "metadata": {},
   "outputs": [],
   "source": [
    "cleared_dataset['group'] = kmeans.labels_"
   ]
  },
  {
   "cell_type": "code",
   "execution_count": 112,
   "id": "542185d3",
   "metadata": {
    "scrolled": true
   },
   "outputs": [
    {
     "data": {
      "text/html": [
       "<div>\n",
       "<style scoped>\n",
       "    .dataframe tbody tr th:only-of-type {\n",
       "        vertical-align: middle;\n",
       "    }\n",
       "\n",
       "    .dataframe tbody tr th {\n",
       "        vertical-align: top;\n",
       "    }\n",
       "\n",
       "    .dataframe thead th {\n",
       "        text-align: right;\n",
       "    }\n",
       "</style>\n",
       "<table border=\"1\" class=\"dataframe\">\n",
       "  <thead>\n",
       "    <tr style=\"text-align: right;\">\n",
       "      <th></th>\n",
       "      <th>nome</th>\n",
       "      <th>capacidade_ram</th>\n",
       "      <th>capacidade_armazenamento</th>\n",
       "      <th>preco</th>\n",
       "      <th>chave_unica</th>\n",
       "      <th>group</th>\n",
       "    </tr>\n",
       "  </thead>\n",
       "  <tbody>\n",
       "    <tr>\n",
       "      <th>0</th>\n",
       "      <td>Samsung Galaxy S21 Ultra</td>\n",
       "      <td>12</td>\n",
       "      <td>256</td>\n",
       "      <td>6899.0</td>\n",
       "      <td>Samsung Galaxy S21 Ultra_12 GB_256 GB</td>\n",
       "      <td>1</td>\n",
       "    </tr>\n",
       "    <tr>\n",
       "      <th>1</th>\n",
       "      <td>Samsung Galaxy S21+</td>\n",
       "      <td>8</td>\n",
       "      <td>256</td>\n",
       "      <td>4799.0</td>\n",
       "      <td>Samsung Galaxy S21+_8 GB_256 GB</td>\n",
       "      <td>2</td>\n",
       "    </tr>\n",
       "    <tr>\n",
       "      <th>2</th>\n",
       "      <td>Samsung Galaxy S20 FE</td>\n",
       "      <td>6</td>\n",
       "      <td>128</td>\n",
       "      <td>2199.0</td>\n",
       "      <td>Samsung Galaxy S20 FE_6 GB_128 GB</td>\n",
       "      <td>0</td>\n",
       "    </tr>\n",
       "    <tr>\n",
       "      <th>3</th>\n",
       "      <td>Samsung Galaxy A52</td>\n",
       "      <td>8</td>\n",
       "      <td>128</td>\n",
       "      <td>1699.0</td>\n",
       "      <td>Samsung Galaxy A52_8 GB_128 GB</td>\n",
       "      <td>0</td>\n",
       "    </tr>\n",
       "    <tr>\n",
       "      <th>4</th>\n",
       "      <td>Samsung Galaxy A32</td>\n",
       "      <td>4</td>\n",
       "      <td>128</td>\n",
       "      <td>1199.0</td>\n",
       "      <td>Samsung Galaxy A32_4 GB_128 GB</td>\n",
       "      <td>0</td>\n",
       "    </tr>\n",
       "    <tr>\n",
       "      <th>...</th>\n",
       "      <td>...</td>\n",
       "      <td>...</td>\n",
       "      <td>...</td>\n",
       "      <td>...</td>\n",
       "      <td>...</td>\n",
       "      <td>...</td>\n",
       "    </tr>\n",
       "    <tr>\n",
       "      <th>140</th>\n",
       "      <td>Motorola Moto G5S</td>\n",
       "      <td>3</td>\n",
       "      <td>32</td>\n",
       "      <td>899.0</td>\n",
       "      <td>Motorola Moto G5S_3_32</td>\n",
       "      <td>0</td>\n",
       "    </tr>\n",
       "    <tr>\n",
       "      <th>141</th>\n",
       "      <td>Nokia 6.2</td>\n",
       "      <td>4</td>\n",
       "      <td>64</td>\n",
       "      <td>1299.0</td>\n",
       "      <td>Nokia 6.2_4_64</td>\n",
       "      <td>0</td>\n",
       "    </tr>\n",
       "    <tr>\n",
       "      <th>142</th>\n",
       "      <td>Samsung Galaxy A70s</td>\n",
       "      <td>6</td>\n",
       "      <td>128</td>\n",
       "      <td>2299.0</td>\n",
       "      <td>Samsung Galaxy A70s_6_128</td>\n",
       "      <td>0</td>\n",
       "    </tr>\n",
       "    <tr>\n",
       "      <th>144</th>\n",
       "      <td>Asus Zenfone 4</td>\n",
       "      <td>4</td>\n",
       "      <td>64</td>\n",
       "      <td>1499.0</td>\n",
       "      <td>Asus Zenfone 4_4_64</td>\n",
       "      <td>0</td>\n",
       "    </tr>\n",
       "    <tr>\n",
       "      <th>145</th>\n",
       "      <td>Motorola Moto E5 Plus</td>\n",
       "      <td>3</td>\n",
       "      <td>32</td>\n",
       "      <td>799.0</td>\n",
       "      <td>Motorola Moto E5 Plus_3_32</td>\n",
       "      <td>0</td>\n",
       "    </tr>\n",
       "  </tbody>\n",
       "</table>\n",
       "<p>131 rows × 6 columns</p>\n",
       "</div>"
      ],
      "text/plain": [
       "                         nome  capacidade_ram  capacidade_armazenamento   \n",
       "0    Samsung Galaxy S21 Ultra              12                       256  \\\n",
       "1         Samsung Galaxy S21+               8                       256   \n",
       "2       Samsung Galaxy S20 FE               6                       128   \n",
       "3          Samsung Galaxy A52               8                       128   \n",
       "4          Samsung Galaxy A32               4                       128   \n",
       "..                        ...             ...                       ...   \n",
       "140         Motorola Moto G5S               3                        32   \n",
       "141                 Nokia 6.2               4                        64   \n",
       "142       Samsung Galaxy A70s               6                       128   \n",
       "144            Asus Zenfone 4               4                        64   \n",
       "145     Motorola Moto E5 Plus               3                        32   \n",
       "\n",
       "      preco                            chave_unica  group  \n",
       "0    6899.0  Samsung Galaxy S21 Ultra_12 GB_256 GB      1  \n",
       "1    4799.0        Samsung Galaxy S21+_8 GB_256 GB      2  \n",
       "2    2199.0      Samsung Galaxy S20 FE_6 GB_128 GB      0  \n",
       "3    1699.0         Samsung Galaxy A52_8 GB_128 GB      0  \n",
       "4    1199.0         Samsung Galaxy A32_4 GB_128 GB      0  \n",
       "..      ...                                    ...    ...  \n",
       "140   899.0                 Motorola Moto G5S_3_32      0  \n",
       "141  1299.0                         Nokia 6.2_4_64      0  \n",
       "142  2299.0              Samsung Galaxy A70s_6_128      0  \n",
       "144  1499.0                    Asus Zenfone 4_4_64      0  \n",
       "145   799.0             Motorola Moto E5 Plus_3_32      0  \n",
       "\n",
       "[131 rows x 6 columns]"
      ]
     },
     "execution_count": 112,
     "metadata": {},
     "output_type": "execute_result"
    }
   ],
   "source": [
    "cleared_dataset"
   ]
  },
  {
   "cell_type": "code",
   "execution_count": 120,
   "id": "25b85e8d",
   "metadata": {},
   "outputs": [],
   "source": [
    "from IPython.display import display"
   ]
  },
  {
   "cell_type": "markdown",
   "id": "2553d3f0",
   "metadata": {},
   "source": [
    "## Análise dos Grupos"
   ]
  },
  {
   "cell_type": "code",
   "execution_count": 121,
   "id": "ef6d802c",
   "metadata": {},
   "outputs": [
    {
     "name": "stdout",
     "output_type": "stream",
     "text": [
      "Aparelhos no grupo 0:\n"
     ]
    },
    {
     "data": {
      "text/html": [
       "<div>\n",
       "<style scoped>\n",
       "    .dataframe tbody tr th:only-of-type {\n",
       "        vertical-align: middle;\n",
       "    }\n",
       "\n",
       "    .dataframe tbody tr th {\n",
       "        vertical-align: top;\n",
       "    }\n",
       "\n",
       "    .dataframe thead th {\n",
       "        text-align: right;\n",
       "    }\n",
       "</style>\n",
       "<table border=\"1\" class=\"dataframe\">\n",
       "  <thead>\n",
       "    <tr style=\"text-align: right;\">\n",
       "      <th></th>\n",
       "      <th>nome</th>\n",
       "      <th>capacidade_ram</th>\n",
       "      <th>capacidade_armazenamento</th>\n",
       "      <th>preco</th>\n",
       "      <th>chave_unica</th>\n",
       "      <th>group</th>\n",
       "    </tr>\n",
       "  </thead>\n",
       "  <tbody>\n",
       "    <tr>\n",
       "      <th>2</th>\n",
       "      <td>Samsung Galaxy S20 FE</td>\n",
       "      <td>6</td>\n",
       "      <td>128</td>\n",
       "      <td>2199.0</td>\n",
       "      <td>Samsung Galaxy S20 FE_6 GB_128 GB</td>\n",
       "      <td>0</td>\n",
       "    </tr>\n",
       "    <tr>\n",
       "      <th>3</th>\n",
       "      <td>Samsung Galaxy A52</td>\n",
       "      <td>8</td>\n",
       "      <td>128</td>\n",
       "      <td>1699.0</td>\n",
       "      <td>Samsung Galaxy A52_8 GB_128 GB</td>\n",
       "      <td>0</td>\n",
       "    </tr>\n",
       "    <tr>\n",
       "      <th>4</th>\n",
       "      <td>Samsung Galaxy A32</td>\n",
       "      <td>4</td>\n",
       "      <td>128</td>\n",
       "      <td>1199.0</td>\n",
       "      <td>Samsung Galaxy A32_4 GB_128 GB</td>\n",
       "      <td>0</td>\n",
       "    </tr>\n",
       "    <tr>\n",
       "      <th>8</th>\n",
       "      <td>Xiaomi Redmi Note 10 Pro</td>\n",
       "      <td>6</td>\n",
       "      <td>128</td>\n",
       "      <td>1899.0</td>\n",
       "      <td>Xiaomi Redmi Note 10 Pro_6 GB_128 GB</td>\n",
       "      <td>0</td>\n",
       "    </tr>\n",
       "    <tr>\n",
       "      <th>9</th>\n",
       "      <td>Xiaomi Redmi 9</td>\n",
       "      <td>4</td>\n",
       "      <td>64</td>\n",
       "      <td>1199.0</td>\n",
       "      <td>Xiaomi Redmi 9_4 GB_64 GB</td>\n",
       "      <td>0</td>\n",
       "    </tr>\n",
       "    <tr>\n",
       "      <th>...</th>\n",
       "      <td>...</td>\n",
       "      <td>...</td>\n",
       "      <td>...</td>\n",
       "      <td>...</td>\n",
       "      <td>...</td>\n",
       "      <td>...</td>\n",
       "    </tr>\n",
       "    <tr>\n",
       "      <th>140</th>\n",
       "      <td>Motorola Moto G5S</td>\n",
       "      <td>3</td>\n",
       "      <td>32</td>\n",
       "      <td>899.0</td>\n",
       "      <td>Motorola Moto G5S_3_32</td>\n",
       "      <td>0</td>\n",
       "    </tr>\n",
       "    <tr>\n",
       "      <th>141</th>\n",
       "      <td>Nokia 6.2</td>\n",
       "      <td>4</td>\n",
       "      <td>64</td>\n",
       "      <td>1299.0</td>\n",
       "      <td>Nokia 6.2_4_64</td>\n",
       "      <td>0</td>\n",
       "    </tr>\n",
       "    <tr>\n",
       "      <th>142</th>\n",
       "      <td>Samsung Galaxy A70s</td>\n",
       "      <td>6</td>\n",
       "      <td>128</td>\n",
       "      <td>2299.0</td>\n",
       "      <td>Samsung Galaxy A70s_6_128</td>\n",
       "      <td>0</td>\n",
       "    </tr>\n",
       "    <tr>\n",
       "      <th>144</th>\n",
       "      <td>Asus Zenfone 4</td>\n",
       "      <td>4</td>\n",
       "      <td>64</td>\n",
       "      <td>1499.0</td>\n",
       "      <td>Asus Zenfone 4_4_64</td>\n",
       "      <td>0</td>\n",
       "    </tr>\n",
       "    <tr>\n",
       "      <th>145</th>\n",
       "      <td>Motorola Moto E5 Plus</td>\n",
       "      <td>3</td>\n",
       "      <td>32</td>\n",
       "      <td>799.0</td>\n",
       "      <td>Motorola Moto E5 Plus_3_32</td>\n",
       "      <td>0</td>\n",
       "    </tr>\n",
       "  </tbody>\n",
       "</table>\n",
       "<p>112 rows × 6 columns</p>\n",
       "</div>"
      ],
      "text/plain": [
       "                         nome  capacidade_ram  capacidade_armazenamento   \n",
       "2       Samsung Galaxy S20 FE               6                       128  \\\n",
       "3          Samsung Galaxy A52               8                       128   \n",
       "4          Samsung Galaxy A32               4                       128   \n",
       "8    Xiaomi Redmi Note 10 Pro               6                       128   \n",
       "9              Xiaomi Redmi 9               4                        64   \n",
       "..                        ...             ...                       ...   \n",
       "140         Motorola Moto G5S               3                        32   \n",
       "141                 Nokia 6.2               4                        64   \n",
       "142       Samsung Galaxy A70s               6                       128   \n",
       "144            Asus Zenfone 4               4                        64   \n",
       "145     Motorola Moto E5 Plus               3                        32   \n",
       "\n",
       "      preco                           chave_unica  group  \n",
       "2    2199.0     Samsung Galaxy S20 FE_6 GB_128 GB      0  \n",
       "3    1699.0        Samsung Galaxy A52_8 GB_128 GB      0  \n",
       "4    1199.0        Samsung Galaxy A32_4 GB_128 GB      0  \n",
       "8    1899.0  Xiaomi Redmi Note 10 Pro_6 GB_128 GB      0  \n",
       "9    1199.0             Xiaomi Redmi 9_4 GB_64 GB      0  \n",
       "..      ...                                   ...    ...  \n",
       "140   899.0                Motorola Moto G5S_3_32      0  \n",
       "141  1299.0                        Nokia 6.2_4_64      0  \n",
       "142  2299.0             Samsung Galaxy A70s_6_128      0  \n",
       "144  1499.0                   Asus Zenfone 4_4_64      0  \n",
       "145   799.0            Motorola Moto E5 Plus_3_32      0  \n",
       "\n",
       "[112 rows x 6 columns]"
      ]
     },
     "metadata": {},
     "output_type": "display_data"
    },
    {
     "name": "stdout",
     "output_type": "stream",
     "text": [
      "Aparelhos no grupo 1:\n"
     ]
    },
    {
     "data": {
      "text/html": [
       "<div>\n",
       "<style scoped>\n",
       "    .dataframe tbody tr th:only-of-type {\n",
       "        vertical-align: middle;\n",
       "    }\n",
       "\n",
       "    .dataframe tbody tr th {\n",
       "        vertical-align: top;\n",
       "    }\n",
       "\n",
       "    .dataframe thead th {\n",
       "        text-align: right;\n",
       "    }\n",
       "</style>\n",
       "<table border=\"1\" class=\"dataframe\">\n",
       "  <thead>\n",
       "    <tr style=\"text-align: right;\">\n",
       "      <th></th>\n",
       "      <th>nome</th>\n",
       "      <th>capacidade_ram</th>\n",
       "      <th>capacidade_armazenamento</th>\n",
       "      <th>preco</th>\n",
       "      <th>chave_unica</th>\n",
       "      <th>group</th>\n",
       "    </tr>\n",
       "  </thead>\n",
       "  <tbody>\n",
       "    <tr>\n",
       "      <th>0</th>\n",
       "      <td>Samsung Galaxy S21 Ultra</td>\n",
       "      <td>12</td>\n",
       "      <td>256</td>\n",
       "      <td>6899.0</td>\n",
       "      <td>Samsung Galaxy S21 Ultra_12 GB_256 GB</td>\n",
       "      <td>1</td>\n",
       "    </tr>\n",
       "    <tr>\n",
       "      <th>5</th>\n",
       "      <td>Apple iPhone 12 Pro Max</td>\n",
       "      <td>6</td>\n",
       "      <td>128</td>\n",
       "      <td>9999.0</td>\n",
       "      <td>Apple iPhone 12 Pro Max_6 GB_128 GB</td>\n",
       "      <td>1</td>\n",
       "    </tr>\n",
       "    <tr>\n",
       "      <th>6</th>\n",
       "      <td>Apple iPhone 12</td>\n",
       "      <td>4</td>\n",
       "      <td>128</td>\n",
       "      <td>6999.0</td>\n",
       "      <td>Apple iPhone 12_4 GB_128 GB</td>\n",
       "      <td>1</td>\n",
       "    </tr>\n",
       "    <tr>\n",
       "      <th>12</th>\n",
       "      <td>OnePlus 9 Pro</td>\n",
       "      <td>12</td>\n",
       "      <td>256</td>\n",
       "      <td>7899.0</td>\n",
       "      <td>OnePlus 9 Pro_12 GB_256 GB</td>\n",
       "      <td>1</td>\n",
       "    </tr>\n",
       "    <tr>\n",
       "      <th>15</th>\n",
       "      <td>Huawei P40 Pro</td>\n",
       "      <td>8</td>\n",
       "      <td>256</td>\n",
       "      <td>6999.0</td>\n",
       "      <td>Huawei P40 Pro_8 GB_256 GB</td>\n",
       "      <td>1</td>\n",
       "    </tr>\n",
       "  </tbody>\n",
       "</table>\n",
       "</div>"
      ],
      "text/plain": [
       "                        nome  capacidade_ram  capacidade_armazenamento   \n",
       "0   Samsung Galaxy S21 Ultra              12                       256  \\\n",
       "5    Apple iPhone 12 Pro Max               6                       128   \n",
       "6            Apple iPhone 12               4                       128   \n",
       "12             OnePlus 9 Pro              12                       256   \n",
       "15            Huawei P40 Pro               8                       256   \n",
       "\n",
       "     preco                            chave_unica  group  \n",
       "0   6899.0  Samsung Galaxy S21 Ultra_12 GB_256 GB      1  \n",
       "5   9999.0    Apple iPhone 12 Pro Max_6 GB_128 GB      1  \n",
       "6   6999.0            Apple iPhone 12_4 GB_128 GB      1  \n",
       "12  7899.0             OnePlus 9 Pro_12 GB_256 GB      1  \n",
       "15  6999.0             Huawei P40 Pro_8 GB_256 GB      1  "
      ]
     },
     "metadata": {},
     "output_type": "display_data"
    },
    {
     "name": "stdout",
     "output_type": "stream",
     "text": [
      "Aparelhos no grupo 2:\n"
     ]
    },
    {
     "data": {
      "text/html": [
       "<div>\n",
       "<style scoped>\n",
       "    .dataframe tbody tr th:only-of-type {\n",
       "        vertical-align: middle;\n",
       "    }\n",
       "\n",
       "    .dataframe tbody tr th {\n",
       "        vertical-align: top;\n",
       "    }\n",
       "\n",
       "    .dataframe thead th {\n",
       "        text-align: right;\n",
       "    }\n",
       "</style>\n",
       "<table border=\"1\" class=\"dataframe\">\n",
       "  <thead>\n",
       "    <tr style=\"text-align: right;\">\n",
       "      <th></th>\n",
       "      <th>nome</th>\n",
       "      <th>capacidade_ram</th>\n",
       "      <th>capacidade_armazenamento</th>\n",
       "      <th>preco</th>\n",
       "      <th>chave_unica</th>\n",
       "      <th>group</th>\n",
       "    </tr>\n",
       "  </thead>\n",
       "  <tbody>\n",
       "    <tr>\n",
       "      <th>1</th>\n",
       "      <td>Samsung Galaxy S21+</td>\n",
       "      <td>8</td>\n",
       "      <td>256</td>\n",
       "      <td>4799.0</td>\n",
       "      <td>Samsung Galaxy S21+_8 GB_256 GB</td>\n",
       "      <td>2</td>\n",
       "    </tr>\n",
       "    <tr>\n",
       "      <th>7</th>\n",
       "      <td>Apple iPhone SE (2020)</td>\n",
       "      <td>3</td>\n",
       "      <td>64</td>\n",
       "      <td>2999.0</td>\n",
       "      <td>Apple iPhone SE (2020)_3 GB_64 GB</td>\n",
       "      <td>2</td>\n",
       "    </tr>\n",
       "    <tr>\n",
       "      <th>13</th>\n",
       "      <td>OnePlus 9</td>\n",
       "      <td>8</td>\n",
       "      <td>128</td>\n",
       "      <td>4899.0</td>\n",
       "      <td>OnePlus 9_8 GB_128 GB</td>\n",
       "      <td>2</td>\n",
       "    </tr>\n",
       "    <tr>\n",
       "      <th>16</th>\n",
       "      <td>Google Pixel 5</td>\n",
       "      <td>8</td>\n",
       "      <td>128</td>\n",
       "      <td>5399.0</td>\n",
       "      <td>Google Pixel 5_8 GB_128 GB</td>\n",
       "      <td>2</td>\n",
       "    </tr>\n",
       "    <tr>\n",
       "      <th>18</th>\n",
       "      <td>Sony Xperia 5 II</td>\n",
       "      <td>8</td>\n",
       "      <td>128</td>\n",
       "      <td>4699.0</td>\n",
       "      <td>Sony Xperia 5 II_8 GB_128 GB</td>\n",
       "      <td>2</td>\n",
       "    </tr>\n",
       "    <tr>\n",
       "      <th>21</th>\n",
       "      <td>Nokia 8.3 5G</td>\n",
       "      <td>6</td>\n",
       "      <td>64</td>\n",
       "      <td>2999.0</td>\n",
       "      <td>Nokia 8.3 5G_6 GB_64 GB</td>\n",
       "      <td>2</td>\n",
       "    </tr>\n",
       "    <tr>\n",
       "      <th>24</th>\n",
       "      <td>Asus Zenfone 7</td>\n",
       "      <td>8</td>\n",
       "      <td>128</td>\n",
       "      <td>3799.0</td>\n",
       "      <td>Asus Zenfone 7_8 GB_128 GB</td>\n",
       "      <td>2</td>\n",
       "    </tr>\n",
       "    <tr>\n",
       "      <th>29</th>\n",
       "      <td>Samsung Galaxy A72</td>\n",
       "      <td>8</td>\n",
       "      <td>256</td>\n",
       "      <td>3299.0</td>\n",
       "      <td>Samsung Galaxy A72_8 GB_256 GB</td>\n",
       "      <td>2</td>\n",
       "    </tr>\n",
       "    <tr>\n",
       "      <th>34</th>\n",
       "      <td>Xiaomi Mi 11</td>\n",
       "      <td>8</td>\n",
       "      <td>128</td>\n",
       "      <td>4499.0</td>\n",
       "      <td>Xiaomi Mi 11_8 GB_128 GB</td>\n",
       "      <td>2</td>\n",
       "    </tr>\n",
       "    <tr>\n",
       "      <th>35</th>\n",
       "      <td>OnePlus Nord</td>\n",
       "      <td>12</td>\n",
       "      <td>256</td>\n",
       "      <td>3499.0</td>\n",
       "      <td>OnePlus Nord_12 GB_256 GB</td>\n",
       "      <td>2</td>\n",
       "    </tr>\n",
       "    <tr>\n",
       "      <th>36</th>\n",
       "      <td>OnePlus 8T</td>\n",
       "      <td>8</td>\n",
       "      <td>128</td>\n",
       "      <td>4299.0</td>\n",
       "      <td>OnePlus 8T_8 GB_128 GB</td>\n",
       "      <td>2</td>\n",
       "    </tr>\n",
       "    <tr>\n",
       "      <th>59</th>\n",
       "      <td>Samsung Galaxy S20 FE</td>\n",
       "      <td>8</td>\n",
       "      <td>128</td>\n",
       "      <td>2599.0</td>\n",
       "      <td>Samsung Galaxy S20 FE_8_128</td>\n",
       "      <td>2</td>\n",
       "    </tr>\n",
       "    <tr>\n",
       "      <th>64</th>\n",
       "      <td>Samsung Galaxy S10 Lite</td>\n",
       "      <td>6</td>\n",
       "      <td>128</td>\n",
       "      <td>2599.0</td>\n",
       "      <td>Samsung Galaxy S10 Lite_6_128</td>\n",
       "      <td>2</td>\n",
       "    </tr>\n",
       "    <tr>\n",
       "      <th>69</th>\n",
       "      <td>Xiaomi Mi 10T Pro</td>\n",
       "      <td>8</td>\n",
       "      <td>256</td>\n",
       "      <td>3299.0</td>\n",
       "      <td>Xiaomi Mi 10T Pro_8_256</td>\n",
       "      <td>2</td>\n",
       "    </tr>\n",
       "  </tbody>\n",
       "</table>\n",
       "</div>"
      ],
      "text/plain": [
       "                       nome  capacidade_ram  capacidade_armazenamento   preco   \n",
       "1       Samsung Galaxy S21+               8                       256  4799.0  \\\n",
       "7    Apple iPhone SE (2020)               3                        64  2999.0   \n",
       "13                OnePlus 9               8                       128  4899.0   \n",
       "16           Google Pixel 5               8                       128  5399.0   \n",
       "18         Sony Xperia 5 II               8                       128  4699.0   \n",
       "21             Nokia 8.3 5G               6                        64  2999.0   \n",
       "24           Asus Zenfone 7               8                       128  3799.0   \n",
       "29       Samsung Galaxy A72               8                       256  3299.0   \n",
       "34             Xiaomi Mi 11               8                       128  4499.0   \n",
       "35             OnePlus Nord              12                       256  3499.0   \n",
       "36               OnePlus 8T               8                       128  4299.0   \n",
       "59    Samsung Galaxy S20 FE               8                       128  2599.0   \n",
       "64  Samsung Galaxy S10 Lite               6                       128  2599.0   \n",
       "69        Xiaomi Mi 10T Pro               8                       256  3299.0   \n",
       "\n",
       "                          chave_unica  group  \n",
       "1     Samsung Galaxy S21+_8 GB_256 GB      2  \n",
       "7   Apple iPhone SE (2020)_3 GB_64 GB      2  \n",
       "13              OnePlus 9_8 GB_128 GB      2  \n",
       "16         Google Pixel 5_8 GB_128 GB      2  \n",
       "18       Sony Xperia 5 II_8 GB_128 GB      2  \n",
       "21            Nokia 8.3 5G_6 GB_64 GB      2  \n",
       "24         Asus Zenfone 7_8 GB_128 GB      2  \n",
       "29     Samsung Galaxy A72_8 GB_256 GB      2  \n",
       "34           Xiaomi Mi 11_8 GB_128 GB      2  \n",
       "35          OnePlus Nord_12 GB_256 GB      2  \n",
       "36             OnePlus 8T_8 GB_128 GB      2  \n",
       "59        Samsung Galaxy S20 FE_8_128      2  \n",
       "64      Samsung Galaxy S10 Lite_6_128      2  \n",
       "69            Xiaomi Mi 10T Pro_8_256      2  "
      ]
     },
     "metadata": {},
     "output_type": "display_data"
    }
   ],
   "source": [
    "for i in range(0, number_of_clusters):\n",
    "    cluster_dataset = cleared_dataset[cleared_dataset['group'] == i]\n",
    "    print('Aparelhos no grupo {0}:'.format(i))\n",
    "    display(cluster_dataset)"
   ]
  },
  {
   "cell_type": "code",
   "execution_count": 136,
   "id": "afbc549b",
   "metadata": {
    "scrolled": true
   },
   "outputs": [
    {
     "data": {
      "image/png": "[encoded data removed]",
      "text/plain": [
       "<Figure size 640x480 with 1 Axes>"
      ]
     },
     "metadata": {},
     "output_type": "display_data"
    }
   ],
   "source": [
    "_= cleared_dataset.plot.scatter(x='group', y='preco')"
   ]
  },
  {
   "cell_type": "code",
   "execution_count": 137,
   "id": "518c15d4",
   "metadata": {
    "scrolled": true
   },
   "outputs": [
    {
     "data": {
      "image/png": "[encoded data removed]",
      "text/plain": [
       "<Figure size 640x480 with 1 Axes>"
      ]
     },
     "metadata": {},
     "output_type": "display_data"
    }
   ],
   "source": [
    "_= cleared_dataset.plot.scatter(x='group', y='capacidade_ram')"
   ]
  },
  {
   "cell_type": "code",
   "execution_count": 138,
   "id": "b49cf864",
   "metadata": {},
   "outputs": [
    {
     "data": {
      "image/png": "[encoded data removed]",
      "text/plain": [
       "<Figure size 640x480 with 1 Axes>"
      ]
     },
     "metadata": {},
     "output_type": "display_data"
    }
   ],
   "source": [
    "_= cleared_dataset.plot.scatter(x='group', y='capacidade_armazenamento')"
   ]
  }
 ],
 "metadata": {
  "kernelspec": {
   "display_name": "Python 3 (ipykernel)",
   "language": "python",
   "name": "python3"
  },
  "language_info": {
   "codemirror_mode": {
    "name": "ipython",
    "version": 3
   },
   "file_extension": ".py",
   "mimetype": "text/x-python",
   "name": "python",
   "nbconvert_exporter": "python",
   "pygments_lexer": "ipython3",
   "version": "3.9.16"
  }
 },
 "nbformat": 4,
 "nbformat_minor": 5
}
